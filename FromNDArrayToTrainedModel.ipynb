{
 "cells": [
  {
   "cell_type": "markdown",
   "metadata": {},
   "source": [
    "# From NDArray to trained model\n",
    "\n",
    "Based off https://beta.mxnet.io/guide/crash-course/index.html"
   ]
  },
  {
   "cell_type": "code",
   "execution_count": 1,
   "metadata": {},
   "outputs": [],
   "source": [
    "import mxnet as mx\n",
    "from mxnet import nd\n",
    "import numpy as np\n",
    "\n",
    "import time"
   ]
  },
  {
   "cell_type": "markdown",
   "metadata": {},
   "source": [
    "NDArray: Numpy-like package to manipulate tensor across compute contexts (CPU / GPU)"
   ]
  },
  {
   "cell_type": "code",
   "execution_count": 2,
   "metadata": {},
   "outputs": [],
   "source": [
    "a = ((1,2,3),(5,6,7))"
   ]
  },
  {
   "cell_type": "code",
   "execution_count": 3,
   "metadata": {},
   "outputs": [
    {
     "data": {
      "text/plain": [
       "\n",
       "[[1. 2. 3.]\n",
       " [5. 6. 7.]]\n",
       "<NDArray 2x3 @cpu(0)>"
      ]
     },
     "execution_count": 3,
     "metadata": {},
     "output_type": "execute_result"
    }
   ],
   "source": [
    "x = nd.array(a, ctx=mx.cpu())\n",
    "x"
   ]
  },
  {
   "cell_type": "code",
   "execution_count": 4,
   "metadata": {},
   "outputs": [
    {
     "data": {
      "text/plain": [
       "\n",
       "[[1. 2. 3.]\n",
       " [5. 6. 7.]]\n",
       "<NDArray 2x3 @gpu(0)>"
      ]
     },
     "execution_count": 4,
     "metadata": {},
     "output_type": "execute_result"
    }
   ],
   "source": [
    "y = nd.array(a, ctx=mx.gpu())\n",
    "y"
   ]
  },
  {
   "cell_type": "markdown",
   "metadata": {},
   "source": [
    "As with NumPy, the dimensions of each NDArray are accessible by accessing the .shape attribute. We can also query its size, which is equal to the product of the components of the shape. In addition, .dtype tells the data type of the stored values."
   ]
  },
  {
   "cell_type": "code",
   "execution_count": 5,
   "metadata": {},
   "outputs": [
    {
     "data": {
      "text/plain": [
       "((2, 3), 6, numpy.float32, cpu(0))"
      ]
     },
     "execution_count": 5,
     "metadata": {},
     "output_type": "execute_result"
    }
   ],
   "source": [
    "(x.shape, x.size, x.dtype, x.context)"
   ]
  },
  {
   "cell_type": "markdown",
   "metadata": {},
   "source": [
    "## Operations\n",
    "\n",
    "Similar to numpy"
   ]
  },
  {
   "cell_type": "code",
   "execution_count": 6,
   "metadata": {},
   "outputs": [
    {
     "data": {
      "text/plain": [
       "\n",
       "[[1. 2. 3.]\n",
       " [5. 6. 7.]]\n",
       "<NDArray 2x3 @cpu(0)>"
      ]
     },
     "execution_count": 6,
     "metadata": {},
     "output_type": "execute_result"
    }
   ],
   "source": [
    "x"
   ]
  },
  {
   "cell_type": "code",
   "execution_count": 7,
   "metadata": {},
   "outputs": [
    {
     "data": {
      "text/plain": [
       "\n",
       "[[ 2.  4.  6.]\n",
       " [10. 12. 14.]]\n",
       "<NDArray 2x3 @cpu(0)>"
      ]
     },
     "execution_count": 7,
     "metadata": {},
     "output_type": "execute_result"
    }
   ],
   "source": [
    "x + x"
   ]
  },
  {
   "cell_type": "code",
   "execution_count": 8,
   "metadata": {},
   "outputs": [
    {
     "data": {
      "text/plain": [
       "\n",
       "[[ 1.  4.  9.]\n",
       " [25. 36. 49.]]\n",
       "<NDArray 2x3 @cpu(0)>"
      ]
     },
     "execution_count": 8,
     "metadata": {},
     "output_type": "execute_result"
    }
   ],
   "source": [
    "x * y.as_in_context(mx.cpu())"
   ]
  },
  {
   "cell_type": "code",
   "execution_count": 9,
   "metadata": {},
   "outputs": [
    {
     "data": {
      "text/plain": [
       "\n",
       "[[ 14.  38.]\n",
       " [ 38. 110.]]\n",
       "<NDArray 2x2 @cpu(0)>"
      ]
     },
     "execution_count": 9,
     "metadata": {},
     "output_type": "execute_result"
    }
   ],
   "source": [
    "nd.dot(x,x.T)"
   ]
  },
  {
   "cell_type": "markdown",
   "metadata": {},
   "source": [
    "**challenge**: Compute the difference between y and x, do the computation on GPU"
   ]
  },
  {
   "cell_type": "code",
   "execution_count": null,
   "metadata": {},
   "outputs": [],
   "source": []
  },
  {
   "cell_type": "markdown",
   "metadata": {},
   "source": [
    "## Indexing and Assignment"
   ]
  },
  {
   "cell_type": "code",
   "execution_count": 10,
   "metadata": {},
   "outputs": [
    {
     "data": {
      "text/plain": [
       "\n",
       "[[1. 2. 3.]\n",
       " [4. 4. 7.]]\n",
       "<NDArray 2x3 @cpu(0)>"
      ]
     },
     "execution_count": 10,
     "metadata": {},
     "output_type": "execute_result"
    }
   ],
   "source": [
    "x[1:2,0:2] = 4\n",
    "x"
   ]
  },
  {
   "cell_type": "code",
   "execution_count": 11,
   "metadata": {},
   "outputs": [
    {
     "data": {
      "text/plain": [
       "\n",
       "[1. 2. 3.]\n",
       "<NDArray 3 @cpu(0)>"
      ]
     },
     "execution_count": 11,
     "metadata": {},
     "output_type": "execute_result"
    }
   ],
   "source": [
    "x[0,:]"
   ]
  },
  {
   "cell_type": "markdown",
   "metadata": {},
   "source": [
    "**Challenge**: Get the last column of x"
   ]
  },
  {
   "cell_type": "code",
   "execution_count": null,
   "metadata": {},
   "outputs": [],
   "source": []
  },
  {
   "cell_type": "markdown",
   "metadata": {},
   "source": [
    "## Numpy vs NDArray"
   ]
  },
  {
   "cell_type": "code",
   "execution_count": 12,
   "metadata": {},
   "outputs": [
    {
     "data": {
      "text/plain": [
       "array([[1., 1., 1., 1., 1.],\n",
       "       [1., 1., 1., 1., 1.],\n",
       "       [1., 1., 1., 1., 1.],\n",
       "       [1., 1., 1., 1., 1.],\n",
       "       [1., 1., 1., 1., 1.]])"
      ]
     },
     "execution_count": 12,
     "metadata": {},
     "output_type": "execute_result"
    }
   ],
   "source": [
    "b = np.ones((5,5))\n",
    "b"
   ]
  },
  {
   "cell_type": "code",
   "execution_count": 13,
   "metadata": {},
   "outputs": [
    {
     "data": {
      "text/plain": [
       "\n",
       "[[1. 1. 1. 1. 1.]\n",
       " [1. 1. 1. 1. 1.]\n",
       " [1. 1. 1. 1. 1.]\n",
       " [1. 1. 1. 1. 1.]\n",
       " [1. 1. 1. 1. 1.]]\n",
       "<NDArray 5x5 @cpu(0)>"
      ]
     },
     "execution_count": 13,
     "metadata": {},
     "output_type": "execute_result"
    }
   ],
   "source": [
    "c = nd.array(b)\n",
    "c"
   ]
  },
  {
   "cell_type": "code",
   "execution_count": 14,
   "metadata": {},
   "outputs": [
    {
     "data": {
      "text/plain": [
       "array([[1., 1., 1., 1., 1.],\n",
       "       [1., 1., 1., 1., 1.],\n",
       "       [1., 1., 1., 1., 1.],\n",
       "       [1., 1., 1., 1., 1.],\n",
       "       [1., 1., 1., 1., 1.]], dtype=float32)"
      ]
     },
     "execution_count": 14,
     "metadata": {},
     "output_type": "execute_result"
    }
   ],
   "source": [
    "c.asnumpy()"
   ]
  },
  {
   "cell_type": "markdown",
   "metadata": {},
   "source": [
    "Why bother with NDArray? Speed!\n",
    "\n",
    "Dot product of a 10'000x10'000 matrix in numpy"
   ]
  },
  {
   "cell_type": "code",
   "execution_count": 15,
   "metadata": {},
   "outputs": [
    {
     "data": {
      "text/plain": [
       "5.420276880264282"
      ]
     },
     "execution_count": 15,
     "metadata": {},
     "output_type": "execute_result"
    }
   ],
   "source": [
    "tic = time.time()\n",
    "d = np.ones((10000, 10000))\n",
    "e = np.dot(d, d)\n",
    "time.time() - tic"
   ]
  },
  {
   "cell_type": "markdown",
   "metadata": {},
   "source": [
    "Dot product of a 10'000x10'000 matrix in NDArray on CPU"
   ]
  },
  {
   "cell_type": "code",
   "execution_count": 16,
   "metadata": {},
   "outputs": [
    {
     "data": {
      "text/plain": [
       "3.8611950874328613"
      ]
     },
     "execution_count": 16,
     "metadata": {},
     "output_type": "execute_result"
    }
   ],
   "source": [
    "tic = time.time()\n",
    "d = nd.ones((10000, 10000), mx.cpu())\n",
    "e = nd.dot(d, d).wait_to_read()\n",
    "time.time() - tic"
   ]
  },
  {
   "cell_type": "markdown",
   "metadata": {},
   "source": [
    "~2x speed increase"
   ]
  },
  {
   "cell_type": "markdown",
   "metadata": {},
   "source": [
    "**Challenge**: Compare numpy vs ndarray on GPU"
   ]
  },
  {
   "cell_type": "code",
   "execution_count": null,
   "metadata": {},
   "outputs": [],
   "source": []
  },
  {
   "cell_type": "markdown",
   "metadata": {},
   "source": [
    "## Neural Networks"
   ]
  },
  {
   "cell_type": "markdown",
   "metadata": {},
   "source": [
    "NDArray are used to store the data, feature maps, weights and parameters of neural networks. Now let's see how we can define the layers of our networks!"
   ]
  },
  {
   "cell_type": "markdown",
   "metadata": {},
   "source": [
    "![](https://media.giphy.com/media/1j9f6wCFelOwzbGyoa/giphy.gif)"
   ]
  },
  {
   "cell_type": "code",
   "execution_count": 17,
   "metadata": {},
   "outputs": [],
   "source": [
    "from mxnet import nd\n",
    "from mxnet.gluon import nn"
   ]
  },
  {
   "cell_type": "markdown",
   "metadata": {},
   "source": [
    "### Network creation\n",
    "\n",
    "a simple sequential network (LeNet)\n",
    "\n",
    "![](https://cdn-images-1.medium.com/max/2000/1*1TI1aGBZ4dybR6__DI9dzA.png)"
   ]
  },
  {
   "cell_type": "code",
   "execution_count": 18,
   "metadata": {},
   "outputs": [
    {
     "data": {
      "text/plain": [
       "HybridSequential(\n",
       "  (0): Conv2D(None -> 6, kernel_size=(5, 5), stride=(1, 1), Activation(relu))\n",
       "  (1): MaxPool2D(size=(2, 2), stride=(2, 2), padding=(0, 0), ceil_mode=False)\n",
       "  (2): Conv2D(None -> 16, kernel_size=(3, 3), stride=(1, 1), Activation(relu))\n",
       "  (3): MaxPool2D(size=(2, 2), stride=(2, 2), padding=(0, 0), ceil_mode=False)\n",
       "  (4): Dense(None -> 120, Activation(relu))\n",
       "  (5): Dense(None -> 84, Activation(relu))\n",
       "  (6): Dense(None -> 10, linear)\n",
       ")"
      ]
     },
     "execution_count": 18,
     "metadata": {},
     "output_type": "execute_result"
    }
   ],
   "source": [
    "net = nn.HybridSequential()\n",
    "ctx = mx.cpu()\n",
    "\n",
    "with net.name_scope():\n",
    "    # Add a sequence of layers.\n",
    "    net.add(nn.Conv2D(channels=6, kernel_size=5, activation='relu'),\n",
    "            nn.MaxPool2D(pool_size=2, strides=2),\n",
    "            nn.Conv2D(channels=16, kernel_size=3, activation='relu'),\n",
    "            nn.MaxPool2D(pool_size=2, strides=2),\n",
    "            nn.Dense(120, activation=\"relu\"),\n",
    "            nn.Dense(84, activation=\"relu\"),\n",
    "            nn.Dense(10))\n",
    "net"
   ]
  },
  {
   "cell_type": "markdown",
   "metadata": {},
   "source": [
    "Initialization, possibility of having different schemes per layer or per parameter type"
   ]
  },
  {
   "cell_type": "code",
   "execution_count": 19,
   "metadata": {},
   "outputs": [],
   "source": [
    "net.collect_params('.*weight.*').initialize(mx.init.Normal(), ctx=ctx)\n",
    "net.collect_params('.*bias.*').initialize(mx.init.Uniform(), ctx=ctx)"
   ]
  },
  {
   "cell_type": "markdown",
   "metadata": {},
   "source": [
    "### Vizualizing the network"
   ]
  },
  {
   "cell_type": "code",
   "execution_count": 20,
   "metadata": {},
   "outputs": [],
   "source": [
    "shape = (1,1,28,28)"
   ]
  },
  {
   "cell_type": "code",
   "execution_count": 21,
   "metadata": {},
   "outputs": [
    {
     "name": "stdout",
     "output_type": "stream",
     "text": [
      "--------------------------------------------------------------------------------\n",
      "        Layer (type)                                Output Shape         Param #\n",
      "================================================================================\n",
      "               Input                              (1, 1, 28, 28)               0\n",
      "        Activation-1   <Symbol hybridsequential0_conv0_relu_fwd>               0\n",
      "        Activation-2                              (1, 6, 24, 24)               0\n",
      "            Conv2D-3                              (1, 6, 24, 24)             156\n",
      "         MaxPool2D-4                              (1, 6, 12, 12)               0\n",
      "        Activation-5   <Symbol hybridsequential0_conv1_relu_fwd>               0\n",
      "        Activation-6                             (1, 16, 10, 10)               0\n",
      "            Conv2D-7                             (1, 16, 10, 10)             880\n",
      "         MaxPool2D-8                               (1, 16, 5, 5)               0\n",
      "        Activation-9  <Symbol hybridsequential0_dense0_relu_fwd>               0\n",
      "       Activation-10                                    (1, 120)               0\n",
      "            Dense-11                                    (1, 120)           48120\n",
      "       Activation-12  <Symbol hybridsequential0_dense1_relu_fwd>               0\n",
      "       Activation-13                                     (1, 84)               0\n",
      "            Dense-14                                     (1, 84)           10164\n",
      "            Dense-15                                     (1, 10)             850\n",
      "================================================================================\n",
      "Parameters in forward computation graph, duplicate included\n",
      "   Total params: 60170\n",
      "   Trainable params: 60170\n",
      "   Non-trainable params: 0\n",
      "Shared params in forward computation graph: 0\n",
      "Unique parameters in model: 60170\n",
      "--------------------------------------------------------------------------------\n"
     ]
    }
   ],
   "source": [
    "net.summary(nd.ones(shape, ctx=ctx))"
   ]
  },
  {
   "cell_type": "code",
   "execution_count": 22,
   "metadata": {},
   "outputs": [
    {
     "data": {
      "image/svg+xml": [
       "<?xml version=\"1.0\" encoding=\"UTF-8\" standalone=\"no\"?>\n",
       "<!DOCTYPE svg PUBLIC \"-//W3C//DTD SVG 1.1//EN\"\n",
       " \"http://www.w3.org/Graphics/SVG/1.1/DTD/svg11.dtd\">\n",
       "<!-- Generated by graphviz version 2.38.0 (20140413.2041)\n",
       " -->\n",
       "<!-- Title: plot Pages: 1 -->\n",
       "<svg width=\"144pt\" height=\"1265pt\"\n",
       " viewBox=\"0.00 0.00 144.34 1265.00\" xmlns=\"http://www.w3.org/2000/svg\" xmlns:xlink=\"http://www.w3.org/1999/xlink\">\n",
       "<g id=\"graph0\" class=\"graph\" transform=\"scale(1 1) rotate(0) translate(4 1261)\">\n",
       "<title>plot</title>\n",
       "<polygon fill=\"white\" stroke=\"none\" points=\"-4,4 -4,-1261 140.337,-1261 140.337,4 -4,4\"/>\n",
       "<!-- data -->\n",
       "<g id=\"node1\" class=\"node\"><title>data</title>\n",
       "<ellipse fill=\"#8dd3c7\" stroke=\"black\" cx=\"68.1686\" cy=\"-29\" rx=\"47\" ry=\"29\"/>\n",
       "<text text-anchor=\"middle\" x=\"68.1686\" y=\"-25.3\" font-family=\"Times,serif\" font-size=\"14.00\">data</text>\n",
       "</g>\n",
       "<!-- hybridsequential0_conv0_fwd -->\n",
       "<g id=\"node2\" class=\"node\"><title>hybridsequential0_conv0_fwd</title>\n",
       "<ellipse fill=\"#fb8072\" stroke=\"black\" cx=\"68.1686\" cy=\"-138\" rx=\"55.6878\" ry=\"29\"/>\n",
       "<text text-anchor=\"middle\" x=\"68.1686\" y=\"-141.8\" font-family=\"Times,serif\" font-size=\"14.00\">Convolution</text>\n",
       "<text text-anchor=\"middle\" x=\"68.1686\" y=\"-126.8\" font-family=\"Times,serif\" font-size=\"14.00\">5x5/1x1, 6</text>\n",
       "</g>\n",
       "<!-- hybridsequential0_conv0_fwd&#45;&gt;data -->\n",
       "<g id=\"edge1\" class=\"edge\"><title>hybridsequential0_conv0_fwd&#45;&gt;data</title>\n",
       "<path fill=\"none\" stroke=\"black\" d=\"M68.1686,-98.5824C68.1686,-85.2841 68.1686,-70.632 68.1686,-58.2967\"/>\n",
       "<polygon fill=\"black\" stroke=\"black\" points=\"68.1686,-108.887 63.6687,-98.887 68.1687,-103.887 68.1687,-98.887 68.1687,-98.887 68.1687,-98.887 68.1687,-103.887 72.6687,-98.8871 68.1686,-108.887 68.1686,-108.887\"/>\n",
       "<text text-anchor=\"middle\" x=\"92.1686\" y=\"-79.8\" font-family=\"Times,serif\" font-size=\"14.00\">1x28x28</text>\n",
       "</g>\n",
       "<!-- hybridsequential0_conv0_relu_fwd -->\n",
       "<g id=\"node3\" class=\"node\"><title>hybridsequential0_conv0_relu_fwd</title>\n",
       "<ellipse fill=\"#ffffb3\" stroke=\"black\" cx=\"68.1686\" cy=\"-247\" rx=\"48.9511\" ry=\"29\"/>\n",
       "<text text-anchor=\"middle\" x=\"68.1686\" y=\"-250.8\" font-family=\"Times,serif\" font-size=\"14.00\">Activation</text>\n",
       "<text text-anchor=\"middle\" x=\"68.1686\" y=\"-235.8\" font-family=\"Times,serif\" font-size=\"14.00\">relu</text>\n",
       "</g>\n",
       "<!-- hybridsequential0_conv0_relu_fwd&#45;&gt;hybridsequential0_conv0_fwd -->\n",
       "<g id=\"edge2\" class=\"edge\"><title>hybridsequential0_conv0_relu_fwd&#45;&gt;hybridsequential0_conv0_fwd</title>\n",
       "<path fill=\"none\" stroke=\"black\" d=\"M68.1686,-207.582C68.1686,-194.284 68.1686,-179.632 68.1686,-167.297\"/>\n",
       "<polygon fill=\"black\" stroke=\"black\" points=\"68.1686,-217.887 63.6687,-207.887 68.1687,-212.887 68.1687,-207.887 68.1687,-207.887 68.1687,-207.887 68.1687,-212.887 72.6687,-207.887 68.1686,-217.887 68.1686,-217.887\"/>\n",
       "<text text-anchor=\"middle\" x=\"92.1686\" y=\"-188.8\" font-family=\"Times,serif\" font-size=\"14.00\">6x24x24</text>\n",
       "</g>\n",
       "<!-- hybridsequential0_pool0_fwd -->\n",
       "<g id=\"node4\" class=\"node\"><title>hybridsequential0_pool0_fwd</title>\n",
       "<ellipse fill=\"#80b1d3\" stroke=\"black\" cx=\"68.1686\" cy=\"-356\" rx=\"60.7772\" ry=\"29\"/>\n",
       "<text text-anchor=\"middle\" x=\"68.1686\" y=\"-359.8\" font-family=\"Times,serif\" font-size=\"14.00\">Pooling</text>\n",
       "<text text-anchor=\"middle\" x=\"68.1686\" y=\"-344.8\" font-family=\"Times,serif\" font-size=\"14.00\">max, 2x2/2x2</text>\n",
       "</g>\n",
       "<!-- hybridsequential0_pool0_fwd&#45;&gt;hybridsequential0_conv0_relu_fwd -->\n",
       "<g id=\"edge3\" class=\"edge\"><title>hybridsequential0_pool0_fwd&#45;&gt;hybridsequential0_conv0_relu_fwd</title>\n",
       "<path fill=\"none\" stroke=\"black\" d=\"M68.1686,-316.582C68.1686,-303.284 68.1686,-288.632 68.1686,-276.297\"/>\n",
       "<polygon fill=\"black\" stroke=\"black\" points=\"68.1686,-326.887 63.6687,-316.887 68.1687,-321.887 68.1687,-316.887 68.1687,-316.887 68.1687,-316.887 68.1687,-321.887 72.6687,-316.887 68.1686,-326.887 68.1686,-326.887\"/>\n",
       "<text text-anchor=\"middle\" x=\"92.1686\" y=\"-297.8\" font-family=\"Times,serif\" font-size=\"14.00\">6x24x24</text>\n",
       "</g>\n",
       "<!-- hybridsequential0_conv1_fwd -->\n",
       "<g id=\"node5\" class=\"node\"><title>hybridsequential0_conv1_fwd</title>\n",
       "<ellipse fill=\"#fb8072\" stroke=\"black\" cx=\"68.1686\" cy=\"-465\" rx=\"55.6878\" ry=\"29\"/>\n",
       "<text text-anchor=\"middle\" x=\"68.1686\" y=\"-468.8\" font-family=\"Times,serif\" font-size=\"14.00\">Convolution</text>\n",
       "<text text-anchor=\"middle\" x=\"68.1686\" y=\"-453.8\" font-family=\"Times,serif\" font-size=\"14.00\">3x3/1x1, 16</text>\n",
       "</g>\n",
       "<!-- hybridsequential0_conv1_fwd&#45;&gt;hybridsequential0_pool0_fwd -->\n",
       "<g id=\"edge4\" class=\"edge\"><title>hybridsequential0_conv1_fwd&#45;&gt;hybridsequential0_pool0_fwd</title>\n",
       "<path fill=\"none\" stroke=\"black\" d=\"M68.1686,-425.582C68.1686,-412.284 68.1686,-397.632 68.1686,-385.297\"/>\n",
       "<polygon fill=\"black\" stroke=\"black\" points=\"68.1686,-435.887 63.6687,-425.887 68.1687,-430.887 68.1687,-425.887 68.1687,-425.887 68.1687,-425.887 68.1687,-430.887 72.6687,-425.887 68.1686,-435.887 68.1686,-435.887\"/>\n",
       "<text text-anchor=\"middle\" x=\"92.1686\" y=\"-406.8\" font-family=\"Times,serif\" font-size=\"14.00\">6x12x12</text>\n",
       "</g>\n",
       "<!-- hybridsequential0_conv1_relu_fwd -->\n",
       "<g id=\"node6\" class=\"node\"><title>hybridsequential0_conv1_relu_fwd</title>\n",
       "<ellipse fill=\"#ffffb3\" stroke=\"black\" cx=\"68.1686\" cy=\"-574\" rx=\"48.9511\" ry=\"29\"/>\n",
       "<text text-anchor=\"middle\" x=\"68.1686\" y=\"-577.8\" font-family=\"Times,serif\" font-size=\"14.00\">Activation</text>\n",
       "<text text-anchor=\"middle\" x=\"68.1686\" y=\"-562.8\" font-family=\"Times,serif\" font-size=\"14.00\">relu</text>\n",
       "</g>\n",
       "<!-- hybridsequential0_conv1_relu_fwd&#45;&gt;hybridsequential0_conv1_fwd -->\n",
       "<g id=\"edge5\" class=\"edge\"><title>hybridsequential0_conv1_relu_fwd&#45;&gt;hybridsequential0_conv1_fwd</title>\n",
       "<path fill=\"none\" stroke=\"black\" d=\"M68.1686,-534.582C68.1686,-521.284 68.1686,-506.632 68.1686,-494.297\"/>\n",
       "<polygon fill=\"black\" stroke=\"black\" points=\"68.1686,-544.887 63.6687,-534.887 68.1687,-539.887 68.1687,-534.887 68.1687,-534.887 68.1687,-534.887 68.1687,-539.887 72.6687,-534.887 68.1686,-544.887 68.1686,-544.887\"/>\n",
       "<text text-anchor=\"middle\" x=\"95.6686\" y=\"-515.8\" font-family=\"Times,serif\" font-size=\"14.00\">16x10x10</text>\n",
       "</g>\n",
       "<!-- hybridsequential0_pool1_fwd -->\n",
       "<g id=\"node7\" class=\"node\"><title>hybridsequential0_pool1_fwd</title>\n",
       "<ellipse fill=\"#80b1d3\" stroke=\"black\" cx=\"68.1686\" cy=\"-683\" rx=\"60.7772\" ry=\"29\"/>\n",
       "<text text-anchor=\"middle\" x=\"68.1686\" y=\"-686.8\" font-family=\"Times,serif\" font-size=\"14.00\">Pooling</text>\n",
       "<text text-anchor=\"middle\" x=\"68.1686\" y=\"-671.8\" font-family=\"Times,serif\" font-size=\"14.00\">max, 2x2/2x2</text>\n",
       "</g>\n",
       "<!-- hybridsequential0_pool1_fwd&#45;&gt;hybridsequential0_conv1_relu_fwd -->\n",
       "<g id=\"edge6\" class=\"edge\"><title>hybridsequential0_pool1_fwd&#45;&gt;hybridsequential0_conv1_relu_fwd</title>\n",
       "<path fill=\"none\" stroke=\"black\" d=\"M68.1686,-643.582C68.1686,-630.284 68.1686,-615.632 68.1686,-603.297\"/>\n",
       "<polygon fill=\"black\" stroke=\"black\" points=\"68.1686,-653.887 63.6687,-643.887 68.1687,-648.887 68.1687,-643.887 68.1687,-643.887 68.1687,-643.887 68.1687,-648.887 72.6687,-643.887 68.1686,-653.887 68.1686,-653.887\"/>\n",
       "<text text-anchor=\"middle\" x=\"95.6686\" y=\"-624.8\" font-family=\"Times,serif\" font-size=\"14.00\">16x10x10</text>\n",
       "</g>\n",
       "<!-- hybridsequential0_dense0_fwd -->\n",
       "<g id=\"node8\" class=\"node\"><title>hybridsequential0_dense0_fwd</title>\n",
       "<ellipse fill=\"#fb8072\" stroke=\"black\" cx=\"68.1686\" cy=\"-792\" rx=\"68.3377\" ry=\"29\"/>\n",
       "<text text-anchor=\"middle\" x=\"68.1686\" y=\"-795.8\" font-family=\"Times,serif\" font-size=\"14.00\">FullyConnected</text>\n",
       "<text text-anchor=\"middle\" x=\"68.1686\" y=\"-780.8\" font-family=\"Times,serif\" font-size=\"14.00\">120</text>\n",
       "</g>\n",
       "<!-- hybridsequential0_dense0_fwd&#45;&gt;hybridsequential0_pool1_fwd -->\n",
       "<g id=\"edge7\" class=\"edge\"><title>hybridsequential0_dense0_fwd&#45;&gt;hybridsequential0_pool1_fwd</title>\n",
       "<path fill=\"none\" stroke=\"black\" d=\"M68.1686,-752.582C68.1686,-739.284 68.1686,-724.632 68.1686,-712.297\"/>\n",
       "<polygon fill=\"black\" stroke=\"black\" points=\"68.1686,-762.887 63.6687,-752.887 68.1687,-757.887 68.1687,-752.887 68.1687,-752.887 68.1687,-752.887 68.1687,-757.887 72.6687,-752.887 68.1686,-762.887 68.1686,-762.887\"/>\n",
       "<text text-anchor=\"middle\" x=\"88.6686\" y=\"-733.8\" font-family=\"Times,serif\" font-size=\"14.00\">16x5x5</text>\n",
       "</g>\n",
       "<!-- hybridsequential0_dense0_relu_fwd -->\n",
       "<g id=\"node9\" class=\"node\"><title>hybridsequential0_dense0_relu_fwd</title>\n",
       "<ellipse fill=\"#ffffb3\" stroke=\"black\" cx=\"68.1686\" cy=\"-901\" rx=\"48.9511\" ry=\"29\"/>\n",
       "<text text-anchor=\"middle\" x=\"68.1686\" y=\"-904.8\" font-family=\"Times,serif\" font-size=\"14.00\">Activation</text>\n",
       "<text text-anchor=\"middle\" x=\"68.1686\" y=\"-889.8\" font-family=\"Times,serif\" font-size=\"14.00\">relu</text>\n",
       "</g>\n",
       "<!-- hybridsequential0_dense0_relu_fwd&#45;&gt;hybridsequential0_dense0_fwd -->\n",
       "<g id=\"edge8\" class=\"edge\"><title>hybridsequential0_dense0_relu_fwd&#45;&gt;hybridsequential0_dense0_fwd</title>\n",
       "<path fill=\"none\" stroke=\"black\" d=\"M68.1686,-861.582C68.1686,-848.284 68.1686,-833.632 68.1686,-821.297\"/>\n",
       "<polygon fill=\"black\" stroke=\"black\" points=\"68.1686,-871.887 63.6687,-861.887 68.1687,-866.887 68.1687,-861.887 68.1687,-861.887 68.1687,-861.887 68.1687,-866.887 72.6687,-861.887 68.1686,-871.887 68.1686,-871.887\"/>\n",
       "<text text-anchor=\"middle\" x=\"78.6686\" y=\"-842.8\" font-family=\"Times,serif\" font-size=\"14.00\">120</text>\n",
       "</g>\n",
       "<!-- hybridsequential0_dense1_fwd -->\n",
       "<g id=\"node10\" class=\"node\"><title>hybridsequential0_dense1_fwd</title>\n",
       "<ellipse fill=\"#fb8072\" stroke=\"black\" cx=\"68.1686\" cy=\"-1010\" rx=\"68.3377\" ry=\"29\"/>\n",
       "<text text-anchor=\"middle\" x=\"68.1686\" y=\"-1013.8\" font-family=\"Times,serif\" font-size=\"14.00\">FullyConnected</text>\n",
       "<text text-anchor=\"middle\" x=\"68.1686\" y=\"-998.8\" font-family=\"Times,serif\" font-size=\"14.00\">84</text>\n",
       "</g>\n",
       "<!-- hybridsequential0_dense1_fwd&#45;&gt;hybridsequential0_dense0_relu_fwd -->\n",
       "<g id=\"edge9\" class=\"edge\"><title>hybridsequential0_dense1_fwd&#45;&gt;hybridsequential0_dense0_relu_fwd</title>\n",
       "<path fill=\"none\" stroke=\"black\" d=\"M68.1686,-970.582C68.1686,-957.284 68.1686,-942.632 68.1686,-930.297\"/>\n",
       "<polygon fill=\"black\" stroke=\"black\" points=\"68.1686,-980.887 63.6687,-970.887 68.1687,-975.887 68.1687,-970.887 68.1687,-970.887 68.1687,-970.887 68.1687,-975.887 72.6687,-970.887 68.1686,-980.887 68.1686,-980.887\"/>\n",
       "<text text-anchor=\"middle\" x=\"78.6686\" y=\"-951.8\" font-family=\"Times,serif\" font-size=\"14.00\">120</text>\n",
       "</g>\n",
       "<!-- hybridsequential0_dense1_relu_fwd -->\n",
       "<g id=\"node11\" class=\"node\"><title>hybridsequential0_dense1_relu_fwd</title>\n",
       "<ellipse fill=\"#ffffb3\" stroke=\"black\" cx=\"68.1686\" cy=\"-1119\" rx=\"48.9511\" ry=\"29\"/>\n",
       "<text text-anchor=\"middle\" x=\"68.1686\" y=\"-1122.8\" font-family=\"Times,serif\" font-size=\"14.00\">Activation</text>\n",
       "<text text-anchor=\"middle\" x=\"68.1686\" y=\"-1107.8\" font-family=\"Times,serif\" font-size=\"14.00\">relu</text>\n",
       "</g>\n",
       "<!-- hybridsequential0_dense1_relu_fwd&#45;&gt;hybridsequential0_dense1_fwd -->\n",
       "<g id=\"edge10\" class=\"edge\"><title>hybridsequential0_dense1_relu_fwd&#45;&gt;hybridsequential0_dense1_fwd</title>\n",
       "<path fill=\"none\" stroke=\"black\" d=\"M68.1686,-1079.58C68.1686,-1066.28 68.1686,-1051.63 68.1686,-1039.3\"/>\n",
       "<polygon fill=\"black\" stroke=\"black\" points=\"68.1686,-1089.89 63.6687,-1079.89 68.1687,-1084.89 68.1687,-1079.89 68.1687,-1079.89 68.1687,-1079.89 68.1687,-1084.89 72.6687,-1079.89 68.1686,-1089.89 68.1686,-1089.89\"/>\n",
       "<text text-anchor=\"middle\" x=\"75.1686\" y=\"-1060.8\" font-family=\"Times,serif\" font-size=\"14.00\">84</text>\n",
       "</g>\n",
       "<!-- hybridsequential0_dense2_fwd -->\n",
       "<g id=\"node12\" class=\"node\"><title>hybridsequential0_dense2_fwd</title>\n",
       "<ellipse fill=\"#fb8072\" stroke=\"black\" cx=\"68.1686\" cy=\"-1228\" rx=\"68.3377\" ry=\"29\"/>\n",
       "<text text-anchor=\"middle\" x=\"68.1686\" y=\"-1231.8\" font-family=\"Times,serif\" font-size=\"14.00\">FullyConnected</text>\n",
       "<text text-anchor=\"middle\" x=\"68.1686\" y=\"-1216.8\" font-family=\"Times,serif\" font-size=\"14.00\">10</text>\n",
       "</g>\n",
       "<!-- hybridsequential0_dense2_fwd&#45;&gt;hybridsequential0_dense1_relu_fwd -->\n",
       "<g id=\"edge11\" class=\"edge\"><title>hybridsequential0_dense2_fwd&#45;&gt;hybridsequential0_dense1_relu_fwd</title>\n",
       "<path fill=\"none\" stroke=\"black\" d=\"M68.1686,-1188.58C68.1686,-1175.28 68.1686,-1160.63 68.1686,-1148.3\"/>\n",
       "<polygon fill=\"black\" stroke=\"black\" points=\"68.1686,-1198.89 63.6687,-1188.89 68.1687,-1193.89 68.1687,-1188.89 68.1687,-1188.89 68.1687,-1188.89 68.1687,-1193.89 72.6687,-1188.89 68.1686,-1198.89 68.1686,-1198.89\"/>\n",
       "<text text-anchor=\"middle\" x=\"75.1686\" y=\"-1169.8\" font-family=\"Times,serif\" font-size=\"14.00\">84</text>\n",
       "</g>\n",
       "</g>\n",
       "</svg>\n"
      ],
      "text/plain": [
       "<graphviz.dot.Digraph at 0x7f8570332668>"
      ]
     },
     "execution_count": 22,
     "metadata": {},
     "output_type": "execute_result"
    }
   ],
   "source": [
    "mx.viz.plot_network(net(mx.sym.var('data')), shape={'data': shape}, node_attrs={\"shape\":\"oval\",\"fixedsize\":\"false\"})"
   ]
  },
  {
   "cell_type": "markdown",
   "metadata": {},
   "source": [
    "## Data"
   ]
  },
  {
   "cell_type": "code",
   "execution_count": 23,
   "metadata": {},
   "outputs": [],
   "source": [
    "from mxnet import nd, gluon, init, autograd\n",
    "from mxnet.gluon.data.vision import datasets, transforms\n",
    "\n",
    "import matplotlib.pyplot as plt"
   ]
  },
  {
   "cell_type": "markdown",
   "metadata": {},
   "source": [
    "#### Load the raw data"
   ]
  },
  {
   "cell_type": "code",
   "execution_count": 24,
   "metadata": {},
   "outputs": [
    {
     "data": {
      "text/plain": [
       "('X shape: ', (28, 28, 1), 'X dtype', numpy.uint8, 'y:', 2)"
      ]
     },
     "execution_count": 24,
     "metadata": {},
     "output_type": "execute_result"
    }
   ],
   "source": [
    "mnist_train = datasets.FashionMNIST(train=True)\n",
    "mnist_test = datasets.FashionMNIST(train=False)\n",
    "X, y = mnist_train[0]\n",
    "('X shape: ', X.shape, 'X dtype', X.dtype, 'y:', y)"
   ]
  },
  {
   "cell_type": "markdown",
   "metadata": {},
   "source": [
    "Let's look at the data"
   ]
  },
  {
   "cell_type": "code",
   "execution_count": 25,
   "metadata": {},
   "outputs": [
    {
     "data": {
      "image/png": "[encoded data removed]",
      "text/plain": [
       "<Figure size 1080x1080 with 10 Axes>"
      ]
     },
     "metadata": {},
     "output_type": "display_data"
    }
   ],
   "source": [
    "text_labels = ['t-shirt', 'trouser', 'pullover', 'dress', 'coat', 'sandal', 'shirt', 'sneaker', 'bag', 'ankle boot']\n",
    "X, y = mnist_train[0:10]\n",
    "\n",
    "_, figs = plt.subplots(1, X.shape[0], figsize=(15, 15))\n",
    "for f,x,yi in zip(figs, X,y):\n",
    "    # 3D->2D by removing the last channel dim\n",
    "    f.imshow(x.reshape((28,28)).asnumpy(), cmap='gray')\n",
    "    f.axes.set_title(text_labels[int(yi)])\n",
    "plt.show()"
   ]
  },
  {
   "cell_type": "markdown",
   "metadata": {},
   "source": [
    "In order to feed data into a Gluon model, we need to convert the images to the (channel, height, width) format with a floating point data type. It can be done by `transforms.ToTensor`. In addition, we normalize all pixel values with `transforms.Normalize` with the real mean 0.13 and standard deviation 0.31. We chain these two transforms together and apply it to the first element of the data pair, namely the images."
   ]
  },
  {
   "cell_type": "markdown",
   "metadata": {},
   "source": [
    "#### Prepare the data using `transforms` "
   ]
  },
  {
   "cell_type": "code",
   "execution_count": 26,
   "metadata": {},
   "outputs": [],
   "source": [
    "transformer = transforms.Compose([\n",
    "    transforms.ToTensor(),\n",
    "    transforms.Normalize(0.13, 0.31)])\n",
    "\n",
    "mnist_train_ = mnist_train.transform_first(transformer)\n",
    "mnist_test_ = mnist_test.transform_first(transformer)"
   ]
  },
  {
   "cell_type": "markdown",
   "metadata": {},
   "source": [
    "#### Creating the data loaders"
   ]
  },
  {
   "cell_type": "code",
   "execution_count": 27,
   "metadata": {},
   "outputs": [],
   "source": [
    "batch_size = 256\n",
    "\n",
    "train_data = gluon.data.DataLoader(mnist_train_, batch_size=batch_size, shuffle=True, num_workers=4)\n",
    "test_data = gluon.data.DataLoader(mnist_test_, batch_size=batch_size, shuffle=False, num_workers=4)"
   ]
  },
  {
   "cell_type": "markdown",
   "metadata": {},
   "source": [
    "The returned train_data is an iterable object that yields batches of images and labels pairs."
   ]
  },
  {
   "cell_type": "code",
   "execution_count": 28,
   "metadata": {},
   "outputs": [
    {
     "name": "stdout",
     "output_type": "stream",
     "text": [
      "(256, 1, 28, 28) (256,)\n"
     ]
    }
   ],
   "source": [
    "for data, label in train_data:\n",
    "    print(data.shape, label.shape)\n",
    "    break"
   ]
  },
  {
   "cell_type": "markdown",
   "metadata": {},
   "source": [
    "## Loss and Optimization"
   ]
  },
  {
   "cell_type": "markdown",
   "metadata": {},
   "source": [
    "Besides the neural network, we need to define the loss function and optimization method for training. We will use standard softmax cross entropy loss for classification problems. It first performs softmax on the output to obtain the predicted probability, and then compares the label with the cross entropy."
   ]
  },
  {
   "cell_type": "code",
   "execution_count": 29,
   "metadata": {},
   "outputs": [],
   "source": [
    "softmax_cross_entropy = gluon.loss.SoftmaxCrossEntropyLoss()"
   ]
  },
  {
   "cell_type": "markdown",
   "metadata": {},
   "source": [
    "The optimization method we pick is the standard stochastic gradient descent with constant learning rate of 0.1."
   ]
  },
  {
   "cell_type": "code",
   "execution_count": 30,
   "metadata": {},
   "outputs": [],
   "source": [
    "trainer = gluon.Trainer(net.collect_params(), 'adam', {'learning_rate': 0.01})"
   ]
  },
  {
   "cell_type": "markdown",
   "metadata": {},
   "source": [
    "## Training the network"
   ]
  },
  {
   "cell_type": "markdown",
   "metadata": {},
   "source": [
    "We hybridize the network for performance and portability (sacrificing some flexibility and debuggability)"
   ]
  },
  {
   "cell_type": "code",
   "execution_count": 31,
   "metadata": {},
   "outputs": [],
   "source": [
    "net.hybridize()"
   ]
  },
  {
   "cell_type": "code",
   "execution_count": 40,
   "metadata": {},
   "outputs": [],
   "source": [
    "def run_training():\n",
    "    \n",
    "    epochs = 5\n",
    "\n",
    "    for epoch in range(epochs):\n",
    "        train_loss = 0.\n",
    "        tic = time.time()\n",
    "        train_acc, test_acc =  mx.metric.Accuracy(), mx.metric.Accuracy()\n",
    "\n",
    "        for i, (data, label) in enumerate(train_data):\n",
    "            data = data.as_in_context(ctx)\n",
    "            label = label.as_in_context(ctx)\n",
    "            # forward + backward\n",
    "            with autograd.record():\n",
    "                output = net(data)\n",
    "                loss = softmax_cross_entropy(output, label)\n",
    "            loss.backward()\n",
    "\n",
    "            # update parameters\n",
    "            trainer.step(batch_size)\n",
    "\n",
    "            # calculate training metrics\n",
    "            train_loss += loss.mean().asscalar()\n",
    "            train_acc.update(label, output)\n",
    "\n",
    "        # calculate validation accuracy\n",
    "        for data, label in test_data:\n",
    "            data = data.as_in_context(ctx)\n",
    "            label = label.as_in_context(ctx)\n",
    "            pred = net(data)\n",
    "            test_acc.update(label, pred)\n",
    "\n",
    "        print(\"Epoch %d: loss %.3f, test acc %.3f, train acc %.3f, in %.1f sec\" % (\n",
    "                epoch, train_loss/(i+1), test_acc.get()[1], train_acc.get()[1], time.time()-tic))"
   ]
  },
  {
   "cell_type": "code",
   "execution_count": 33,
   "metadata": {},
   "outputs": [
    {
     "name": "stdout",
     "output_type": "stream",
     "text": [
      "Epoch 0: loss 0.759, test acc 0.823, train acc 0.701, in 11.5 sec\n",
      "Epoch 1: loss 0.391, test acc 0.862, train acc 0.853, in 11.7 sec\n",
      "Epoch 2: loss 0.352, test acc 0.867, train acc 0.869, in 11.9 sec\n",
      "Epoch 3: loss 0.322, test acc 0.875, train acc 0.880, in 11.7 sec\n",
      "Epoch 4: loss 0.314, test acc 0.877, train acc 0.883, in 11.9 sec\n",
      "CPU times: user 5min 44s, sys: 3.24 s, total: 5min 48s\n",
      "Wall time: 58.7 s\n"
     ]
    }
   ],
   "source": [
    "%%time\n",
    "run_training()"
   ]
  },
  {
   "cell_type": "markdown",
   "metadata": {},
   "source": [
    "## Training on GPU"
   ]
  },
  {
   "cell_type": "code",
   "execution_count": 44,
   "metadata": {},
   "outputs": [],
   "source": [
    "ctx = mx.gpu()\n",
    "net.initialize(mx.init.Xavier(), ctx=ctx, force_reinit=True)\n",
    "trainer = gluon.Trainer(net.collect_params(), 'adam', {'learning_rate': 0.01})\n",
    "net.cast('float32')"
   ]
  },
  {
   "cell_type": "code",
   "execution_count": 45,
   "metadata": {},
   "outputs": [
    {
     "name": "stdout",
     "output_type": "stream",
     "text": [
      "Epoch 0: loss 0.538, test acc 0.861, train acc 0.801, in 1.9 sec\n",
      "Epoch 1: loss 0.349, test acc 0.864, train acc 0.872, in 1.9 sec\n",
      "Epoch 2: loss 0.312, test acc 0.875, train acc 0.885, in 1.8 sec\n",
      "Epoch 3: loss 0.291, test acc 0.888, train acc 0.892, in 1.8 sec\n",
      "Epoch 4: loss 0.280, test acc 0.886, train acc 0.896, in 1.9 sec\n",
      "CPU times: user 52.7 s, sys: 1.65 s, total: 54.3 s\n",
      "Wall time: 9.24 s\n"
     ]
    }
   ],
   "source": [
    "%%time\n",
    "run_training()"
   ]
  },
  {
   "cell_type": "markdown",
   "metadata": {},
   "source": [
    "**Challenge**: Improve the test accuracy by at least 2%"
   ]
  },
  {
   "cell_type": "code",
   "execution_count": null,
   "metadata": {},
   "outputs": [],
   "source": []
  }
 ],
 "metadata": {
  "kernelspec": {
   "display_name": "Python 3",
   "language": "python",
   "name": "python3"
  },
  "language_info": {
   "codemirror_mode": {
    "name": "ipython",
    "version": 3
   },
   "file_extension": ".py",
   "mimetype": "text/x-python",
   "name": "python",
   "nbconvert_exporter": "python",
   "pygments_lexer": "ipython3",
   "version": "3.6.4"
  }
 },
 "nbformat": 4,
 "nbformat_minor": 2
}
